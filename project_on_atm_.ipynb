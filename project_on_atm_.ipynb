{
  "nbformat": 4,
  "nbformat_minor": 0,
  "metadata": {
    "colab": {
      "name": "project on atm .ipynb",
      "provenance": [],
      "collapsed_sections": [],
      "authorship_tag": "ABX9TyMmU05sPSbjEY7KGnH0AlYb",
      "include_colab_link": true
    },
    "kernelspec": {
      "name": "python3",
      "display_name": "Python 3"
    },
    "language_info": {
      "name": "python"
    }
  },
  "cells": [
    {
      "cell_type": "markdown",
      "metadata": {
        "id": "view-in-github",
        "colab_type": "text"
      },
      "source": [
        "<a href=\"https://colab.research.google.com/github/suven-3456/project/blob/main/project_on_atm_.ipynb\" target=\"_parent\"><img src=\"https://colab.research.google.com/assets/colab-badge.svg\" alt=\"Open In Colab\"/></a>"
      ]
    },
    {
      "cell_type": "code",
      "metadata": {
        "colab": {
          "base_uri": "https://localhost:8080/"
        },
        "id": "jviqijPJW00O",
        "outputId": "746edf1a-9579-4403-ba45-e8f69de71d51"
      },
      "source": [
        "import time\n",
        "\n",
        "print(\"Please insert Your CARD\")\n",
        "\n",
        "#for card processing\n",
        "time.sleep(5)\n",
        "\n",
        "password = 1234\n",
        "\n",
        "#taking atm pin from user\n",
        "pin = int(input(\"enter your atm pin \"))\n",
        "\n",
        "#user account balance\n",
        "balance = 5000\n",
        "\n",
        "#checking pin is valid or not \n",
        "if pin == password:\n",
        "    #loop will run user get free \n",
        "    while True:\n",
        "\n",
        "        #Showing  info to user\n",
        "\n",
        "        print(\"\"\" \n",
        "\t\t\t1 == balance\n",
        "\t\t\t2 == withdraw balance\n",
        "\t\t\t3 == deposit balance\n",
        "\t\t\t4 == exit\n",
        "\t\t\t\"\"\"\n",
        "              )\n",
        "\n",
        "        try:    \n",
        "             #taking an option from user\n",
        "            option = int(input(\"Please enter your choise \"))\n",
        "        except:\n",
        "            print(\"Please enter valid option\")\n",
        "        \n",
        "        #for option 1        \n",
        "        if option == 1:\n",
        "            print(f\"Your current balance is {balance}\")\n",
        "                                     \n",
        "        if option == 2:\n",
        "\n",
        "            withdraw_amount = int(input(\"please enter withdraw_amount \"))\n",
        "\n",
        "            \n",
        "\n",
        "            balance = balance - withdraw_amount\n",
        "\n",
        "            print(f\"{withdraw_amount} is debited from your account\")\n",
        "\n",
        "            \n",
        "\n",
        "            print(f\"your updated balance is {balance}\")\n",
        "\n",
        "            \n",
        "\n",
        "        if option == 3:\n",
        "\n",
        "            deposit_amount = int(input(\"please enter deposit_amount\"))\n",
        "\n",
        "            balance = balance + deposit_amount\n",
        "\n",
        "            \n",
        "\n",
        "            print(f\"{deposit_amount} is credited to your account\")\n",
        "\n",
        "\n",
        "\n",
        "            print(f\"your updated balance is {balance}\")\n",
        "\n",
        "\n",
        "\n",
        "        if option == 4:\n",
        "\n",
        "            break\n",
        "\n",
        "\n",
        "else:\n",
        "    print(\"wrong pin Please try again\")\n",
        "\n"
      ],
      "execution_count": 2,
      "outputs": [
        {
          "output_type": "stream",
          "name": "stdout",
          "text": [
            "Please insert Your CARD\n",
            "enter your atm pin 4444\n",
            "wrong pin Please try again\n"
          ]
        }
      ]
    }
  ]
}